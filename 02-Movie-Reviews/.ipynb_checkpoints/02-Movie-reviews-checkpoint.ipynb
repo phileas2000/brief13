{
 "cells": [
  {
   "cell_type": "markdown",
   "metadata": {},
   "source": [
    "# Movie Reviews"
   ]
  },
  {
   "cell_type": "code",
   "execution_count": 1,
   "metadata": {},
   "outputs": [
    {
     "data": {
      "text/html": [
       "<div>\n",
       "<style scoped>\n",
       "    .dataframe tbody tr th:only-of-type {\n",
       "        vertical-align: middle;\n",
       "    }\n",
       "\n",
       "    .dataframe tbody tr th {\n",
       "        vertical-align: top;\n",
       "    }\n",
       "\n",
       "    .dataframe thead th {\n",
       "        text-align: right;\n",
       "    }\n",
       "</style>\n",
       "<table border=\"1\" class=\"dataframe\">\n",
       "  <thead>\n",
       "    <tr style=\"text-align: right;\">\n",
       "      <th></th>\n",
       "      <th>target</th>\n",
       "      <th>reviews</th>\n",
       "    </tr>\n",
       "  </thead>\n",
       "  <tbody>\n",
       "    <tr>\n",
       "      <td>0</td>\n",
       "      <td>neg</td>\n",
       "      <td>plot : two teen couples go to a church party ,...</td>\n",
       "    </tr>\n",
       "    <tr>\n",
       "      <td>1</td>\n",
       "      <td>neg</td>\n",
       "      <td>the happy bastard's quick movie review \\ndamn ...</td>\n",
       "    </tr>\n",
       "    <tr>\n",
       "      <td>2</td>\n",
       "      <td>neg</td>\n",
       "      <td>it is movies like these that make a jaded movi...</td>\n",
       "    </tr>\n",
       "    <tr>\n",
       "      <td>3</td>\n",
       "      <td>neg</td>\n",
       "      <td>\" quest for camelot \" is warner bros . ' firs...</td>\n",
       "    </tr>\n",
       "    <tr>\n",
       "      <td>4</td>\n",
       "      <td>neg</td>\n",
       "      <td>synopsis : a mentally unstable man undergoing ...</td>\n",
       "    </tr>\n",
       "  </tbody>\n",
       "</table>\n",
       "</div>"
      ],
      "text/plain": [
       "  target                                            reviews\n",
       "0    neg  plot : two teen couples go to a church party ,...\n",
       "1    neg  the happy bastard's quick movie review \\ndamn ...\n",
       "2    neg  it is movies like these that make a jaded movi...\n",
       "3    neg   \" quest for camelot \" is warner bros . ' firs...\n",
       "4    neg  synopsis : a mentally unstable man undergoing ..."
      ]
     },
     "execution_count": 1,
     "metadata": {},
     "output_type": "execute_result"
    }
   ],
   "source": [
    "import pandas as pd\n",
    "import re\n",
    "\n",
    "data = pd.read_csv(\"reviews.csv\")\n",
    "\n",
    "data.head()"
   ]
  },
  {
   "cell_type": "markdown",
   "metadata": {},
   "source": [
    "The dataset is made up of positive and negative movie reviews."
   ]
  },
  {
   "cell_type": "markdown",
   "metadata": {},
   "source": [
    "## Preprocessing\n",
    "\n",
    "👇 Remove punctuation and lower case the text."
   ]
  },
  {
   "cell_type": "code",
   "execution_count": 2,
   "metadata": {},
   "outputs": [
    {
     "name": "stdout",
     "output_type": "stream",
     "text": [
      "0       plot  two teen couples go to a church party  d...\n",
      "1       the happy bastards quick movie review \\ndamn t...\n",
      "2       it is movies like these that make a jaded movi...\n",
      "3         quest for camelot  is warner bros   first fe...\n",
      "4       synopsis  a mentally unstable man undergoing p...\n",
      "                              ...                        \n",
      "1995    wow  what a movie  \\nits everything a movie ca...\n",
      "1996    richard gere can be a commanding actor  but he...\n",
      "1997    glorystarring matthew broderick  denzel washin...\n",
      "1998    steven spielbergs second epic film on world wa...\n",
      "1999    truman   trueman   burbank is the perfect name...\n",
      "Name: clean_text, Length: 2000, dtype: object\n",
      "     target                                            reviews  \\\n",
      "0       neg  plot : two teen couples go to a church party ,...   \n",
      "1       neg  the happy bastard's quick movie review \\ndamn ...   \n",
      "2       neg  it is movies like these that make a jaded movi...   \n",
      "3       neg   \" quest for camelot \" is warner bros . ' firs...   \n",
      "4       neg  synopsis : a mentally unstable man undergoing ...   \n",
      "...     ...                                                ...   \n",
      "1995    pos  wow ! what a movie . \\nit's everything a movie...   \n",
      "1996    pos  richard gere can be a commanding actor , but h...   \n",
      "1997    pos  glory--starring matthew broderick , denzel was...   \n",
      "1998    pos  steven spielberg's second epic film on world w...   \n",
      "1999    pos  truman ( \" true-man \" ) burbank is the perfect...   \n",
      "\n",
      "                                             clean_text  \n",
      "0     plot : two teen couples go to a church party ,...  \n",
      "1     the happy bastard's quick movie review \\ndamn ...  \n",
      "2     it is movies like these that make a jaded movi...  \n",
      "3      \" quest for camelot \" is warner bros . ' firs...  \n",
      "4     synopsis : a mentally unstable man undergoing ...  \n",
      "...                                                 ...  \n",
      "1995  wow ! what a movie . \\nit's everything a movie...  \n",
      "1996  richard gere can be a commanding actor , but h...  \n",
      "1997  glory--starring matthew broderick , denzel was...  \n",
      "1998  steven spielberg's second epic film on world w...  \n",
      "1999  truman ( \" true-man \" ) burbank is the perfect...  \n",
      "\n",
      "[2000 rows x 3 columns]\n"
     ]
    }
   ],
   "source": [
    "def rem_punc(df):\n",
    "    df[\"clean_text\"] = df['reviews'].str.replace(r'[^\\w\\s]','')\n",
    "    print(df[\"clean_text\"])\n",
    "    return df\n",
    "\n",
    "\n",
    "\n",
    "def lower_case(df):\n",
    "    df[\"clean_text\"] = df['reviews'].str.lower()\n",
    "    return df\n",
    "\n",
    "df_traite=rem_punc(data)\n",
    "df_traite=lower_case(df_traite)\n",
    "\n",
    "print(df_traite)"
   ]
  },
  {
   "cell_type": "markdown",
   "metadata": {},
   "source": [
    "## Bag-of-Words modelling"
   ]
  },
  {
   "cell_type": "markdown",
   "metadata": {},
   "source": [
    "👇 Using `cross_validate`, score a Multinomial Naive Bayes model trained on a Bag-of-Word representation of the texts."
   ]
  },
  {
   "cell_type": "code",
   "execution_count": 3,
   "metadata": {},
   "outputs": [
    {
     "data": {
      "text/plain": [
       "0.812"
      ]
     },
     "execution_count": 3,
     "metadata": {},
     "output_type": "execute_result"
    }
   ],
   "source": [
    "from sklearn.feature_extraction.text import CountVectorizer \n",
    "import pickle\n",
    "\n",
    "from sklearn.naive_bayes import MultinomialNB\n",
    "from sklearn.model_selection import train_test_split\n",
    "\n",
    "\n",
    "vectorizer = CountVectorizer()\n",
    "vectors = vectorizer.fit_transform(df_traite['clean_text'])\n",
    "\n",
    "\n",
    "\n",
    "\n",
    "\n",
    "X=vectors\n",
    "y= data['target']\n",
    "\n",
    "X_train,X_test,y_train,y_test = train_test_split(X,y)\n",
    "clf = MultinomialNB()\n",
    "clf.fit(X_train, y_train)\n",
    "clf.score(X_test,y_test)"
   ]
  },
  {
   "cell_type": "markdown",
   "metadata": {},
   "source": [
    "## N-gram modelling"
   ]
  },
  {
   "cell_type": "markdown",
   "metadata": {},
   "source": [
    "👇 Using `cross_validate`, score a Multinomial Naive Bayes model trained on a 2-gram Bag-of-Word representation of the texts.\n"
   ]
  },
  {
   "cell_type": "code",
   "execution_count": 4,
   "metadata": {},
   "outputs": [
    {
     "data": {
      "text/plain": [
       "0.836"
      ]
     },
     "execution_count": 4,
     "metadata": {},
     "output_type": "execute_result"
    }
   ],
   "source": [
    "from sklearn.feature_extraction.text import CountVectorizer \n",
    "import pickle\n",
    "\n",
    "from sklearn.naive_bayes import MultinomialNB\n",
    "from sklearn.model_selection import train_test_split\n",
    "\n",
    "\n",
    "vectorizer = CountVectorizer(ngram_range=(2,2))\n",
    "vectors = vectorizer.fit_transform(df_traite['clean_text'])\n",
    "\n",
    "\n",
    "\n",
    "\n",
    "\n",
    "X=vectors\n",
    "y= data['target']\n",
    "\n",
    "X_train,X_test,y_train,y_test = train_test_split(X,y)\n",
    "clf = MultinomialNB()\n",
    "clf.fit(X_train, y_train)\n",
    "clf.score(X_test,y_test)\n",
    "\n",
    "\n",
    "\n",
    "\n"
   ]
  },
  {
   "cell_type": "markdown",
   "metadata": {},
   "source": [
    "⚠️ Please push the exercise once you are done 🙃\n",
    "\n",
    "## 🏁 "
   ]
  },
  {
   "cell_type": "code",
   "execution_count": null,
   "metadata": {},
   "outputs": [],
   "source": [
    "print(df_bigrams)"
   ]
  },
  {
   "cell_type": "code",
   "execution_count": null,
   "metadata": {},
   "outputs": [],
   "source": []
  }
 ],
 "metadata": {
  "kernelspec": {
   "display_name": "Python 3",
   "language": "python",
   "name": "python3"
  },
  "language_info": {
   "codemirror_mode": {
    "name": "ipython",
    "version": 3
   },
   "file_extension": ".py",
   "mimetype": "text/x-python",
   "name": "python",
   "nbconvert_exporter": "python",
   "pygments_lexer": "ipython3",
   "version": "3.7.4"
  },
  "toc": {
   "base_numbering": 1,
   "nav_menu": {},
   "number_sections": false,
   "sideBar": true,
   "skip_h1_title": false,
   "title_cell": "Table of Contents",
   "title_sidebar": "Contents",
   "toc_cell": false,
   "toc_position": {},
   "toc_section_display": true,
   "toc_window_display": true
  }
 },
 "nbformat": 4,
 "nbformat_minor": 4
}
