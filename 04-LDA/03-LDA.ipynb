{
 "cells": [
  {
   "cell_type": "markdown",
   "metadata": {},
   "source": [
    "# Latent Dirichlet Allocation"
   ]
  },
  {
   "cell_type": "code",
   "execution_count": 7,
   "metadata": {},
   "outputs": [
    {
     "data": {
      "text/html": [
       "<div>\n",
       "<style scoped>\n",
       "    .dataframe tbody tr th:only-of-type {\n",
       "        vertical-align: middle;\n",
       "    }\n",
       "\n",
       "    .dataframe tbody tr th {\n",
       "        vertical-align: top;\n",
       "    }\n",
       "\n",
       "    .dataframe thead th {\n",
       "        text-align: right;\n",
       "    }\n",
       "</style>\n",
       "<table border=\"1\" class=\"dataframe\">\n",
       "  <thead>\n",
       "    <tr style=\"text-align: right;\">\n",
       "      <th></th>\n",
       "      <th>text</th>\n",
       "    </tr>\n",
       "  </thead>\n",
       "  <tbody>\n",
       "    <tr>\n",
       "      <td>0</td>\n",
       "      <td>From: gld@cunixb.cc.columbia.edu (Gary L Dare)...</td>\n",
       "    </tr>\n",
       "    <tr>\n",
       "      <td>1</td>\n",
       "      <td>From: atterlep@vela.acs.oakland.edu (Cardinal ...</td>\n",
       "    </tr>\n",
       "    <tr>\n",
       "      <td>2</td>\n",
       "      <td>From: miner@kuhub.cc.ukans.edu\\nSubject: Re: A...</td>\n",
       "    </tr>\n",
       "    <tr>\n",
       "      <td>3</td>\n",
       "      <td>From: atterlep@vela.acs.oakland.edu (Cardinal ...</td>\n",
       "    </tr>\n",
       "    <tr>\n",
       "      <td>4</td>\n",
       "      <td>From: vzhivov@superior.carleton.ca (Vladimir Z...</td>\n",
       "    </tr>\n",
       "  </tbody>\n",
       "</table>\n",
       "</div>"
      ],
      "text/plain": [
       "                                                text\n",
       "0  From: gld@cunixb.cc.columbia.edu (Gary L Dare)...\n",
       "1  From: atterlep@vela.acs.oakland.edu (Cardinal ...\n",
       "2  From: miner@kuhub.cc.ukans.edu\\nSubject: Re: A...\n",
       "3  From: atterlep@vela.acs.oakland.edu (Cardinal ...\n",
       "4  From: vzhivov@superior.carleton.ca (Vladimir Z..."
      ]
     },
     "execution_count": 7,
     "metadata": {},
     "output_type": "execute_result"
    }
   ],
   "source": [
    "import pandas as pd\n",
    "\n",
    "data = pd.read_csv('data', sep=\",\", header=None)\n",
    "\n",
    "data.columns = ['text']\n",
    "\n",
    "data.head()"
   ]
  },
  {
   "cell_type": "code",
   "execution_count": 8,
   "metadata": {},
   "outputs": [],
   "source": [
    "df=data"
   ]
  },
  {
   "cell_type": "markdown",
   "metadata": {},
   "source": [
    "The data is a collection of emails that are not labelled. Let's try extract topics from them!"
   ]
  },
  {
   "cell_type": "markdown",
   "metadata": {},
   "source": [
    "## Preprocessing "
   ]
  },
  {
   "cell_type": "markdown",
   "metadata": {},
   "source": [
    "👇 You're used to it by now... Clean up! Store the cleaned text in a new dataframe column \"clean_text\"."
   ]
  },
  {
   "cell_type": "code",
   "execution_count": 9,
   "metadata": {},
   "outputs": [],
   "source": [
    "\n",
    "import numpy as np\n",
    "import re\n",
    "from  string import punctuation\n",
    "from nltk.stem import WordNetLemmatizer\n",
    "from sklearn.feature_extraction.text import CountVectorizer \n",
    "from sklearn.naive_bayes import MultinomialNB\n",
    "from sklearn.model_selection import train_test_split\n",
    "from nltk.corpus import stopwords\n",
    "\n",
    "#df[\"text\"] = df['text'].str.lower()\n",
    "#df[\"text\"] = df['text'].str.replace('[0-9]','')\n",
    "#lemmatizer = WordNetLemmatizer()\n",
    "#df['text'] = df['text'].apply(lambda x: lemmatizer.lemmatize(x))\n",
    "\n"
   ]
  },
  {
   "cell_type": "markdown",
   "metadata": {},
   "source": [
    "## Latent Dirichlet Allocation model"
   ]
  },
  {
   "cell_type": "markdown",
   "metadata": {},
   "source": [
    "👇 Train an LDA model to extract potential topics."
   ]
  },
  {
   "cell_type": "code",
   "execution_count": 10,
   "metadata": {},
   "outputs": [
    {
     "name": "stderr",
     "output_type": "stream",
     "text": [
      "[nltk_data] Downloading package stopwords to\n",
      "[nltk_data]     C:\\Users\\philg\\AppData\\Roaming\\nltk_data...\n",
      "[nltk_data]   Package stopwords is already up-to-date!\n"
     ]
    }
   ],
   "source": [
    "import gensim\n",
    "from gensim.utils import simple_preprocess\n",
    "import nltk\n",
    "nltk.download('stopwords')\n",
    "from nltk.corpus import stopwords \n",
    "stop_words = stopwords.words('english')\n",
    "\n",
    "def sent_to_words(sentences):\n",
    "    for sentence in sentences:\n",
    "        # deacc=True removes punctuations\n",
    "        yield(gensim.utils.simple_preprocess(str(sentence), deacc=True))\n",
    "        \n",
    "def remove_stopwords(texts):\n",
    "    return [[word for word in simple_preprocess(str(doc)) \n",
    "             if word not in stop_words] for doc in texts]\n",
    "\n",
    "\n",
    "data_words = list(sent_to_words(data['text']))# remove stop words\n",
    "data_words = remove_stopwords(data_words)\n",
    "\n",
    "\n",
    "\n",
    "import gensim.corpora as corpora# Create Dictionary\n",
    "id2word = corpora.Dictionary(data_words)# Create Corpus\n",
    "texts = data_words# Term Document Frequency\n",
    "corpus = [id2word.doc2bow(text) for text in texts]# View\n",
    "\n",
    "\n",
    "from pprint import pprint# number of topics\n",
    "num_topics = 10# Build LDA model\n",
    "lda_model = gensim.models.LdaMulticore(corpus=corpus,\n",
    "                                       id2word=id2word)# Print the Keyword in the 10 topics\n",
    "\n"
   ]
  },
  {
   "cell_type": "markdown",
   "metadata": {},
   "source": [
    "## Visualize potential topics"
   ]
  },
  {
   "cell_type": "markdown",
   "metadata": {},
   "source": [
    "👇 The function to print the words associated with the potential topics is already made for you. You just have to pass the correct arguments!"
   ]
  },
  {
   "cell_type": "code",
   "execution_count": 11,
   "metadata": {},
   "outputs": [
    {
     "name": "stdout",
     "output_type": "stream",
     "text": [
      "[(53,\n",
      "  '0.010*\"god\" + 0.009*\"hell\" + 0.009*\"edu\" + 0.006*\"said\" + 0.006*\"would\" + '\n",
      "  '0.006*\"church\" + 0.005*\"lines\" + 0.005*\"subject\" + 0.004*\"organization\" + '\n",
      "  '0.004*\"period\"'),\n",
      " (26,\n",
      "  '0.011*\"edu\" + 0.007*\"ca\" + 0.005*\"writes\" + 0.005*\"organization\" + '\n",
      "  '0.005*\"subject\" + 0.005*\"would\" + 0.004*\"university\" + 0.004*\"lines\" + '\n",
      "  '0.004*\"article\" + 0.004*\"god\"'),\n",
      " (39,\n",
      "  '0.012*\"edu\" + 0.007*\"one\" + 0.006*\"writes\" + 0.005*\"subject\" + '\n",
      "  '0.005*\"organization\" + 0.005*\"would\" + 0.005*\"lines\" + 0.005*\"university\" + '\n",
      "  '0.005*\"god\" + 0.004*\"marriage\"'),\n",
      " (61,\n",
      "  '0.010*\"edu\" + 0.005*\"lines\" + 0.005*\"get\" + 0.005*\"subject\" + '\n",
      "  '0.005*\"hockey\" + 0.005*\"game\" + 0.005*\"one\" + 0.005*\"organization\" + '\n",
      "  '0.005*\"team\" + 0.004*\"would\"'),\n",
      " (94,\n",
      "  '0.013*\"edu\" + 0.012*\"god\" + 0.007*\"one\" + 0.006*\"go\" + 0.005*\"organization\" '\n",
      "  '+ 0.005*\"lines\" + 0.005*\"subject\" + 0.004*\"would\" + 0.004*\"mail\" + '\n",
      "  '0.004*\"gld\"'),\n",
      " (63,\n",
      "  '0.011*\"church\" + 0.008*\"edu\" + 0.006*\"god\" + 0.006*\"one\" + 0.005*\"subject\" '\n",
      "  '+ 0.005*\"organization\" + 0.005*\"world\" + 0.004*\"lines\" + 0.004*\"game\" + '\n",
      "  '0.004*\"time\"'),\n",
      " (36,\n",
      "  '0.010*\"god\" + 0.008*\"edu\" + 0.006*\"faith\" + 0.006*\"go\" + 0.005*\"one\" + '\n",
      "  '0.005*\"law\" + 0.005*\"think\" + 0.004*\"would\" + 0.004*\"question\" + '\n",
      "  '0.004*\"good\"'),\n",
      " (29,\n",
      "  '0.008*\"edu\" + 0.007*\"one\" + 0.006*\"god\" + 0.005*\"would\" + 0.005*\"subject\" + '\n",
      "  '0.005*\"ca\" + 0.005*\"nhl\" + 0.005*\"time\" + 0.004*\"organization\" + '\n",
      "  '0.004*\"lines\"'),\n",
      " (10,\n",
      "  '0.007*\"one\" + 0.007*\"subject\" + 0.007*\"ca\" + 0.007*\"lines\" + 0.007*\"would\" '\n",
      "  '+ 0.007*\"organization\" + 0.005*\"edu\" + 0.005*\"like\" + 0.005*\"university\" + '\n",
      "  '0.004*\"know\"'),\n",
      " (2,\n",
      "  '0.015*\"god\" + 0.011*\"edu\" + 0.007*\"lines\" + 0.006*\"people\" + 0.005*\"one\" + '\n",
      "  '0.005*\"bible\" + 0.005*\"would\" + 0.004*\"way\" + 0.004*\"organization\" + '\n",
      "  '0.004*\"truth\"'),\n",
      " (31,\n",
      "  '0.006*\"god\" + 0.005*\"edu\" + 0.005*\"one\" + 0.004*\"german\" + 0.003*\"game\" + '\n",
      "  '0.003*\"devils\" + 0.003*\"go\" + 0.003*\"would\" + 0.003*\"lines\" + '\n",
      "  '0.003*\"jesus\"'),\n",
      " (74,\n",
      "  '0.010*\"edu\" + 0.007*\"god\" + 0.007*\"lines\" + 0.006*\"would\" + 0.006*\"subject\" '\n",
      "  '+ 0.006*\"organization\" + 0.005*\"team\" + 0.005*\"hell\" + 0.004*\"season\" + '\n",
      "  '0.004*\"university\"'),\n",
      " (75,\n",
      "  '0.007*\"edu\" + 0.006*\"ca\" + 0.006*\"organization\" + 0.006*\"detroit\" + '\n",
      "  '0.005*\"lines\" + 0.005*\"university\" + 0.005*\"subject\" + 0.005*\"period\" + '\n",
      "  '0.004*\"hockey\" + 0.004*\"play\"'),\n",
      " (87,\n",
      "  '0.008*\"edu\" + 0.008*\"like\" + 0.007*\"subject\" + 0.007*\"would\" + '\n",
      "  '0.007*\"organization\" + 0.007*\"lines\" + 0.006*\"com\" + 0.005*\"god\" + '\n",
      "  '0.005*\"know\" + 0.005*\"people\"'),\n",
      " (27,\n",
      "  '0.005*\"subject\" + 0.005*\"edu\" + 0.005*\"new\" + 0.005*\"people\" + '\n",
      "  '0.004*\"would\" + 0.004*\"god\" + 0.004*\"also\" + 0.004*\"one\" + 0.003*\"team\" + '\n",
      "  '0.003*\"president\"'),\n",
      " (70,\n",
      "  '0.011*\"edu\" + 0.007*\"god\" + 0.007*\"lines\" + 0.006*\"jesus\" + 0.005*\"subject\" '\n",
      "  '+ 0.005*\"university\" + 0.005*\"organization\" + 0.004*\"ca\" + 0.004*\"article\" '\n",
      "  '+ 0.004*\"one\"'),\n",
      " (55,\n",
      "  '0.018*\"edu\" + 0.008*\"church\" + 0.008*\"lines\" + 0.007*\"organization\" + '\n",
      "  '0.007*\"subject\" + 0.004*\"people\" + 0.004*\"writes\" + 0.004*\"would\" + '\n",
      "  '0.004*\"language\" + 0.003*\"one\"'),\n",
      " (28,\n",
      "  '0.006*\"edu\" + 0.006*\"organization\" + 0.006*\"subject\" + 0.005*\"god\" + '\n",
      "  '0.005*\"would\" + 0.005*\"ca\" + 0.005*\"lines\" + 0.005*\"university\" + '\n",
      "  '0.004*\"nhl\" + 0.004*\"like\"'),\n",
      " (98,\n",
      "  '0.008*\"god\" + 0.006*\"think\" + 0.005*\"would\" + 0.004*\"tor\" + 0.004*\"people\" '\n",
      "  '+ 0.004*\"lines\" + 0.004*\"vs\" + 0.004*\"like\" + 0.004*\"one\" + 0.003*\"chi\"'),\n",
      " (85,\n",
      "  '0.007*\"edu\" + 0.007*\"would\" + 0.007*\"vs\" + 0.006*\"ahl\" + 0.006*\"hockey\" + '\n",
      "  '0.005*\"clarkson\" + 0.004*\"lines\" + 0.004*\"subject\" + 0.004*\"la\" + '\n",
      "  '0.004*\"ca\"')]\n"
     ]
    }
   ],
   "source": [
    "pprint(lda_model.print_topics())\n",
    "\n",
    "#doc_lda = lda_model[corpus]"
   ]
  },
  {
   "cell_type": "markdown",
   "metadata": {},
   "source": [
    "## Predict topic of new text"
   ]
  },
  {
   "cell_type": "markdown",
   "metadata": {},
   "source": [
    "👇 You can now use your LDA model to predict the topic of a new text. First, use your vectorizer to vectorize the example. Then, use your LDA model to predict the topic of the vectorized example."
   ]
  },
  {
   "cell_type": "code",
   "execution_count": 12,
   "metadata": {},
   "outputs": [
    {
     "name": "stdout",
     "output_type": "stream",
     "text": [
      "From: farenebt@logic.camp.clarkson.edu (Droopy)\n",
      "Subject: Re: AHL Calder Cup Playoff preview\n",
      "Organization: Clarkson University\n",
      "Lines: 37\n",
      "Nntp-Posting-Host: logic.clarkson.edu\n",
      "X-Newsreader: TIN [version 1.1 PL8]\n",
      "\n",
      "Daryl Turner (umturne4@ccu.umanitoba.ca) wrote:\n",
      ": In article <1993Apr14.193524.25755@news.clarkson.edu> farenebt@craft.camp.clarkson.edu (Droopy) writes:\n",
      ": >\n",
      ": >ATLANTIC DIVISION\n",
      ": >\t\n",
      ": >\tST JOHN'S MAPLE LEAFS VS MONCTON HAWKS\n",
      ": >\tMONCTON HAWKS\n",
      ": >See CD Islanders. Moncton is a very similar team to CDI. Low scoring,\n",
      ": >defensive, good goaltending. John Leblanc and Stu Barnes are the only\n",
      ": >noticable guns on the team. But the defense is top notch and \n",
      ": >Mike O'Neill is the most underrated goalie in the league.\n",
      ": >\n",
      "\n",
      ": Bri, as I have tried to tell you since 2 February, Michael O'Neill\n",
      ": might be the most underrated goalie in the AHL, but he ISN'T in the\n",
      ": AHL.  He's on the Winnipeg Jets' injury list, as he has been since\n",
      ": his first NHL start against the Ottawa Senators.  He's out until\n",
      ": next year after surgery to repair a shoulder separation.\n",
      "\n",
      ": Stu Barnes might be an AHL gun for the Hawks, but he's now the third\n",
      ": line center with the Jets, and has been since mid January or so.\n",
      "\n",
      "Sorry, my memory is gone. I thought that O'Neill got sent back\n",
      "down in February but I must have been given incorrect info. I guess\n",
      "this says it all about Moncton because Barnes is still one of\n",
      "their top 3 or so scorers even though he's been out since January.\n",
      "\n",
      "    ++++++++++++++++++++++++++++++++++++++++++++++++++++++++++++++++++++++++\n",
      "    + Bri Farenell\t\t\tfarenebt@craft.camp.clarkson.edu   +\n",
      "    + AHL and ECAC contact for rec.sport.hockey\t\tGo USA Hockey!\t   +\t\n",
      "    + Adirondack Red Wings, Calder Cup Champs: '81  '86  '89  '92\t   +\n",
      "    + Clarkson Hockey, ECAC Tournament Champs: '66  '91  '93\t\t   +\n",
      "    + Glens Falls High Hockey, NY Division II State Champs: '90  '91       +\n",
      "    + AHL fans: join the AHL mailing list: ahl-news-request@andrew.cmu.edu +\n",
      "    + CONGRATS TO THE BOSTON BRUINS, 1992-93 ADAMS DIVISION CHAMPIONS      +\n",
      "    + PHOENIX SUNS, 1992-93 PACIFIC DIVISION CHAMPIONS\t\t\t   +\n",
      "    ++++++++++++++++++++++++++++++++++++++++++++++++++++++++++++++++++++++++\n",
      "\n"
     ]
    },
    {
     "data": {
      "text/plain": [
       "'0.007*\"edu\" + 0.007*\"would\" + 0.007*\"vs\" + 0.006*\"ahl\" + 0.006*\"hockey\" + 0.005*\"clarkson\" + 0.004*\"lines\" + 0.004*\"subject\" + 0.004*\"la\" + 0.004*\"ca\"'"
      ]
     },
     "execution_count": 12,
     "metadata": {},
     "output_type": "execute_result"
    }
   ],
   "source": [
    "string_input = df['text'].iloc[100]\n",
    "#X = vect.transform(string_input)\n",
    "    # Convert sparse matrix to gensim corpus.\n",
    "print(string_input)\n",
    "\n",
    "corpus = id2word.doc2bow(string_input.split())   \n",
    "#corpus = gensim.matutils.Sparse2Corpus(X, documents_columns=False)\n",
    "output = list(lda_model[corpus])[0]\n",
    "#topics = sorted(output,key=lambda x:x[1],reverse=True)\n",
    "lda_model.print_topic(output[0])"
   ]
  },
  {
   "cell_type": "code",
   "execution_count": null,
   "metadata": {},
   "outputs": [],
   "source": []
  },
  {
   "cell_type": "code",
   "execution_count": null,
   "metadata": {},
   "outputs": [],
   "source": []
  }
 ],
 "metadata": {
  "kernelspec": {
   "display_name": "Python 3",
   "language": "python",
   "name": "python3"
  },
  "language_info": {
   "codemirror_mode": {
    "name": "ipython",
    "version": 3
   },
   "file_extension": ".py",
   "mimetype": "text/x-python",
   "name": "python",
   "nbconvert_exporter": "python",
   "pygments_lexer": "ipython3",
   "version": "3.7.4"
  },
  "toc": {
   "base_numbering": 1,
   "nav_menu": {},
   "number_sections": false,
   "sideBar": true,
   "skip_h1_title": false,
   "title_cell": "Table of Contents",
   "title_sidebar": "Contents",
   "toc_cell": false,
   "toc_position": {},
   "toc_section_display": true,
   "toc_window_display": true
  }
 },
 "nbformat": 4,
 "nbformat_minor": 4
}
